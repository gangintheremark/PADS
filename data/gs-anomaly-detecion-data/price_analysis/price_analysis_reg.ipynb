{
 "cells": [
  {
   "cell_type": "code",
   "execution_count": 1,
   "id": "abf42f73-3fca-4478-8f28-1917c0f5918d",
   "metadata": {},
   "outputs": [],
   "source": [
    "import numpy as np\n",
    "import pandas as pd\n",
    "from sklearn.linear_model import RANSACRegressor, HuberRegressor\n",
    "from sklearn.metrics import mean_absolute_error\n",
    "from scipy.stats import zscore\n",
    "import seaborn as sns\n",
    "import matplotlib.pyplot as plt"
   ]
  },
  {
   "cell_type": "code",
   "execution_count": 2,
   "id": "7448e811-e2ce-4382-aedf-11280bf90010",
   "metadata": {},
   "outputs": [],
   "source": [
    "data_route = \"C:\\\\workspace\\\\project_final\\\\data\\\\dataset_sample_10percent.csv\"\n",
    "data = pd.read_csv(data_route, encoding='utf-8')"
   ]
  },
  {
   "cell_type": "code",
   "execution_count": 3,
   "id": "751203fe-1f24-4a0c-9eba-143b1a8e6f63",
   "metadata": {},
   "outputs": [],
   "source": [
    "# Z-score 계산 및 이상치 여부 확인 함수\n",
    "def calculate_z_scores(df, group_column):\n",
    "    # 그룹 내에서 가격에 대한 Z-score 계산\n",
    "    df[f'{group_column}_zscore'] = df.groupby(group_column)['price'].transform(lambda x: zscore(x, ddof=0))\n",
    "    return df\n",
    "\n",
    "# 기준 컬럼별로 Z-score 계산\n",
    "data = calculate_z_scores(data, 'cate2_nm')\n",
    "data = calculate_z_scores(data, 'supplier_code')\n",
    "data = calculate_z_scores(data, 'class_name')\n",
    "data = calculate_z_scores(data, 'brand_name')\n",
    "\n",
    "# NaN이 있는 행 제거\n",
    "data = data.dropna(subset=['supplier_code_zscore', 'cate2_nm_zscore', 'class_name_zscore', 'brand_name_zscore'])\n"
   ]
  },
  {
   "cell_type": "code",
   "execution_count": 4,
   "id": "1185ee66-794e-48ee-8c65-c95489988a28",
   "metadata": {},
   "outputs": [],
   "source": [
    "def robust_regression_outliers(data, features, target_column, model_type='ransac'):\n",
    "    X = data[features]\n",
    "    y = data[target_column]\n",
    "    \n",
    "    # 강인 회귀 모델 선택\n",
    "    if model_type == 'ransac':\n",
    "        model = RANSACRegressor()\n",
    "    elif model_type == 'huber':\n",
    "        model = HuberRegressor()\n",
    "    else:\n",
    "        raise ValueError(\"model_type should be either 'ransac' or 'huber'\")\n",
    "    \n",
    "    # 모델 학습\n",
    "    model.fit(X, y)\n",
    "    y_pred = model.predict(X)\n",
    "    \n",
    "    # 잔차 계산\n",
    "    residuals = y - y_pred\n",
    "    data['residuals'] = residuals\n",
    "    \n",
    "    # 잔차 Z-score 계산\n",
    "    data['residuals_zscore'] = zscore(residuals)\n",
    "    \n",
    "    return data, model\n"
   ]
  },
  {
   "cell_type": "code",
   "execution_count": 5,
   "id": "b3a5056c-0f21-442f-a4ca-47d8966e3ce7",
   "metadata": {},
   "outputs": [
    {
     "name": "stdout",
     "output_type": "stream",
     "text": [
      "           price     residuals  residuals_zscore\n",
      "0        2313000  2.208136e+06          2.909326\n",
      "1           8000  5.510304e+03         -0.173868\n",
      "2         199900  1.656339e+05          0.050270\n",
      "3         986900  8.720556e+05          1.039106\n",
      "4         183400  1.322065e+05          0.003479\n",
      "...          ...           ...               ...\n",
      "1591786    15000 -1.576845e+04         -0.203653\n",
      "1591787    15000 -1.576845e+04         -0.203653\n",
      "1591788     5000  7.907922e+03         -0.170512\n",
      "1591789    10000 -3.930266e+03         -0.187083\n",
      "1591790     5000  7.907922e+03         -0.170512\n",
      "\n",
      "[1587168 rows x 3 columns]\n"
     ]
    }
   ],
   "source": [
    "# 적용할 Z-score 컬럼 지정\n",
    "features = ['supplier_code_zscore', 'cate2_nm_zscore', 'class_name_zscore', 'brand_name_zscore']\n",
    "\n",
    "# 회귀 모델과 잔차 Z-score 계산\n",
    "data, model = robust_regression_outliers(data, features, 'price', model_type='ransac')\n",
    "\n",
    "# 잔차 Z-score를 통해 이상치 여부를 확인하고, 결과 출력\n",
    "print(data[['price', 'residuals', 'residuals_zscore']])"
   ]
  },
  {
   "cell_type": "code",
   "execution_count": 6,
   "id": "7a833a33-40e3-416c-a60c-264ed9adf6e5",
   "metadata": {},
   "outputs": [
    {
     "ename": "KeyError",
     "evalue": "'comprehensive_outlier'",
     "output_type": "error",
     "traceback": [
      "\u001b[1;31m---------------------------------------------------------------------------\u001b[0m",
      "\u001b[1;31mKeyError\u001b[0m                                  Traceback (most recent call last)",
      "File \u001b[1;32mC:\\ProgramData\\anaconda3\\Lib\\site-packages\\pandas\\core\\indexes\\base.py:3805\u001b[0m, in \u001b[0;36mIndex.get_loc\u001b[1;34m(self, key)\u001b[0m\n\u001b[0;32m   3804\u001b[0m \u001b[38;5;28;01mtry\u001b[39;00m:\n\u001b[1;32m-> 3805\u001b[0m     \u001b[38;5;28;01mreturn\u001b[39;00m \u001b[38;5;28mself\u001b[39m\u001b[38;5;241m.\u001b[39m_engine\u001b[38;5;241m.\u001b[39mget_loc(casted_key)\n\u001b[0;32m   3806\u001b[0m \u001b[38;5;28;01mexcept\u001b[39;00m \u001b[38;5;167;01mKeyError\u001b[39;00m \u001b[38;5;28;01mas\u001b[39;00m err:\n",
      "File \u001b[1;32mindex.pyx:167\u001b[0m, in \u001b[0;36mpandas._libs.index.IndexEngine.get_loc\u001b[1;34m()\u001b[0m\n",
      "File \u001b[1;32mindex.pyx:196\u001b[0m, in \u001b[0;36mpandas._libs.index.IndexEngine.get_loc\u001b[1;34m()\u001b[0m\n",
      "File \u001b[1;32mpandas\\\\_libs\\\\hashtable_class_helper.pxi:7081\u001b[0m, in \u001b[0;36mpandas._libs.hashtable.PyObjectHashTable.get_item\u001b[1;34m()\u001b[0m\n",
      "File \u001b[1;32mpandas\\\\_libs\\\\hashtable_class_helper.pxi:7089\u001b[0m, in \u001b[0;36mpandas._libs.hashtable.PyObjectHashTable.get_item\u001b[1;34m()\u001b[0m\n",
      "\u001b[1;31mKeyError\u001b[0m: 'comprehensive_outlier'",
      "\nThe above exception was the direct cause of the following exception:\n",
      "\u001b[1;31mKeyError\u001b[0m                                  Traceback (most recent call last)",
      "Cell \u001b[1;32mIn[6], line 1\u001b[0m\n\u001b[1;32m----> 1\u001b[0m outliers \u001b[38;5;241m=\u001b[39m data[data[\u001b[38;5;124m'\u001b[39m\u001b[38;5;124mcomprehensive_outlier\u001b[39m\u001b[38;5;124m'\u001b[39m] \u001b[38;5;241m==\u001b[39m \u001b[38;5;28;01mTrue\u001b[39;00m]\n\u001b[0;32m      3\u001b[0m \u001b[38;5;66;03m# 필요한 컬럼만 선택해서 출력\u001b[39;00m\n\u001b[0;32m      4\u001b[0m display(outliers[[\u001b[38;5;124m'\u001b[39m\u001b[38;5;124mprd_id\u001b[39m\u001b[38;5;124m'\u001b[39m, \u001b[38;5;124m'\u001b[39m\u001b[38;5;124msupplier_code\u001b[39m\u001b[38;5;124m'\u001b[39m, \u001b[38;5;124m'\u001b[39m\u001b[38;5;124mcate2_nm\u001b[39m\u001b[38;5;124m'\u001b[39m, \u001b[38;5;124m'\u001b[39m\u001b[38;5;124mclass_name\u001b[39m\u001b[38;5;124m'\u001b[39m, \u001b[38;5;124m'\u001b[39m\u001b[38;5;124mbrand_name\u001b[39m\u001b[38;5;124m'\u001b[39m, \n\u001b[0;32m      5\u001b[0m                   \u001b[38;5;124m'\u001b[39m\u001b[38;5;124msupplier_code_zscore\u001b[39m\u001b[38;5;124m'\u001b[39m, \u001b[38;5;124m'\u001b[39m\u001b[38;5;124mcate2_nm_zscore\u001b[39m\u001b[38;5;124m'\u001b[39m, \u001b[38;5;124m'\u001b[39m\u001b[38;5;124mclass_name_zscore\u001b[39m\u001b[38;5;124m'\u001b[39m, \u001b[38;5;124m'\u001b[39m\u001b[38;5;124mbrand_name_zscore\u001b[39m\u001b[38;5;124m'\u001b[39m, \n\u001b[0;32m      6\u001b[0m                   \u001b[38;5;124m'\u001b[39m\u001b[38;5;124mcomprehensive_outlier\u001b[39m\u001b[38;5;124m'\u001b[39m, \u001b[38;5;124m'\u001b[39m\u001b[38;5;124mprice\u001b[39m\u001b[38;5;124m'\u001b[39m]])\n",
      "File \u001b[1;32mC:\\ProgramData\\anaconda3\\Lib\\site-packages\\pandas\\core\\frame.py:4102\u001b[0m, in \u001b[0;36mDataFrame.__getitem__\u001b[1;34m(self, key)\u001b[0m\n\u001b[0;32m   4100\u001b[0m \u001b[38;5;28;01mif\u001b[39;00m \u001b[38;5;28mself\u001b[39m\u001b[38;5;241m.\u001b[39mcolumns\u001b[38;5;241m.\u001b[39mnlevels \u001b[38;5;241m>\u001b[39m \u001b[38;5;241m1\u001b[39m:\n\u001b[0;32m   4101\u001b[0m     \u001b[38;5;28;01mreturn\u001b[39;00m \u001b[38;5;28mself\u001b[39m\u001b[38;5;241m.\u001b[39m_getitem_multilevel(key)\n\u001b[1;32m-> 4102\u001b[0m indexer \u001b[38;5;241m=\u001b[39m \u001b[38;5;28mself\u001b[39m\u001b[38;5;241m.\u001b[39mcolumns\u001b[38;5;241m.\u001b[39mget_loc(key)\n\u001b[0;32m   4103\u001b[0m \u001b[38;5;28;01mif\u001b[39;00m is_integer(indexer):\n\u001b[0;32m   4104\u001b[0m     indexer \u001b[38;5;241m=\u001b[39m [indexer]\n",
      "File \u001b[1;32mC:\\ProgramData\\anaconda3\\Lib\\site-packages\\pandas\\core\\indexes\\base.py:3812\u001b[0m, in \u001b[0;36mIndex.get_loc\u001b[1;34m(self, key)\u001b[0m\n\u001b[0;32m   3807\u001b[0m     \u001b[38;5;28;01mif\u001b[39;00m \u001b[38;5;28misinstance\u001b[39m(casted_key, \u001b[38;5;28mslice\u001b[39m) \u001b[38;5;129;01mor\u001b[39;00m (\n\u001b[0;32m   3808\u001b[0m         \u001b[38;5;28misinstance\u001b[39m(casted_key, abc\u001b[38;5;241m.\u001b[39mIterable)\n\u001b[0;32m   3809\u001b[0m         \u001b[38;5;129;01mand\u001b[39;00m \u001b[38;5;28many\u001b[39m(\u001b[38;5;28misinstance\u001b[39m(x, \u001b[38;5;28mslice\u001b[39m) \u001b[38;5;28;01mfor\u001b[39;00m x \u001b[38;5;129;01min\u001b[39;00m casted_key)\n\u001b[0;32m   3810\u001b[0m     ):\n\u001b[0;32m   3811\u001b[0m         \u001b[38;5;28;01mraise\u001b[39;00m InvalidIndexError(key)\n\u001b[1;32m-> 3812\u001b[0m     \u001b[38;5;28;01mraise\u001b[39;00m \u001b[38;5;167;01mKeyError\u001b[39;00m(key) \u001b[38;5;28;01mfrom\u001b[39;00m \u001b[38;5;21;01merr\u001b[39;00m\n\u001b[0;32m   3813\u001b[0m \u001b[38;5;28;01mexcept\u001b[39;00m \u001b[38;5;167;01mTypeError\u001b[39;00m:\n\u001b[0;32m   3814\u001b[0m     \u001b[38;5;66;03m# If we have a listlike key, _check_indexing_error will raise\u001b[39;00m\n\u001b[0;32m   3815\u001b[0m     \u001b[38;5;66;03m#  InvalidIndexError. Otherwise we fall through and re-raise\u001b[39;00m\n\u001b[0;32m   3816\u001b[0m     \u001b[38;5;66;03m#  the TypeError.\u001b[39;00m\n\u001b[0;32m   3817\u001b[0m     \u001b[38;5;28mself\u001b[39m\u001b[38;5;241m.\u001b[39m_check_indexing_error(key)\n",
      "\u001b[1;31mKeyError\u001b[0m: 'comprehensive_outlier'"
     ]
    }
   ],
   "source": [
    "outliers = data[data['comprehensive_outlier'] == True]\n",
    "\n",
    "# 필요한 컬럼만 선택해서 출력\n",
    "display(outliers[['prd_id', 'supplier_code', 'cate2_nm', 'class_name', 'brand_name', \n",
    "                  'supplier_code_zscore', 'cate2_nm_zscore', 'class_name_zscore', 'brand_name_zscore', \n",
    "                  'comprehensive_outlier', 'price']])"
   ]
  },
  {
   "cell_type": "code",
   "execution_count": null,
   "id": "880e61f9-0a84-4630-be7c-09121a907c74",
   "metadata": {},
   "outputs": [],
   "source": []
  },
  {
   "cell_type": "code",
   "execution_count": null,
   "id": "44d780cb-de20-43ec-9d0c-0aa6105948f3",
   "metadata": {},
   "outputs": [],
   "source": []
  }
 ],
 "metadata": {
  "kernelspec": {
   "display_name": "Python 3 (ipykernel)",
   "language": "python",
   "name": "python3"
  },
  "language_info": {
   "codemirror_mode": {
    "name": "ipython",
    "version": 3
   },
   "file_extension": ".py",
   "mimetype": "text/x-python",
   "name": "python",
   "nbconvert_exporter": "python",
   "pygments_lexer": "ipython3",
   "version": "3.12.4"
  }
 },
 "nbformat": 4,
 "nbformat_minor": 5
}
