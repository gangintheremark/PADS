{
 "cells": [
  {
   "cell_type": "code",
   "id": "initial_id",
   "metadata": {
    "collapsed": true,
    "ExecuteTime": {
     "end_time": "2024-10-29T02:30:35.314984Z",
     "start_time": "2024-10-29T02:30:34.919783Z"
    }
   },
   "source": [
    "import pandas as pd\n",
    "import os\n",
    "from boto3 import client\n",
    "import dotenv"
   ],
   "outputs": [],
   "execution_count": 1
  },
  {
   "metadata": {
    "ExecuteTime": {
     "end_time": "2024-10-29T02:30:35.477268Z",
     "start_time": "2024-10-29T02:30:35.320993Z"
    }
   },
   "cell_type": "code",
   "source": [
    "dotenv.load_dotenv('../gs-anomaly.env')\n",
    "\n",
    "s3_client = client(\n",
    "    \"s3\",\n",
    "    aws_access_key_id=os.getenv(\"CREDENTIALS_ACCESS_KEY\"),\n",
    "    aws_secret_access_key=os.getenv(\"CREDENTIALS_SECRET_KEY\"),\n",
    "    region_name=os.getenv(\"S3_REGION\"),\n",
    ")"
   ],
   "id": "2bbcbfb21c0a020e",
   "outputs": [],
   "execution_count": 2
  },
  {
   "metadata": {
    "ExecuteTime": {
     "end_time": "2024-10-29T02:30:36.091394Z",
     "start_time": "2024-10-29T02:30:35.690289Z"
    }
   },
   "cell_type": "code",
   "source": [
    "data_route = \"C:\\\\workspace\\\\project_final\\\\data\\\\dataset_sample_1percent.csv\"\n",
    "data = pd.read_csv(data_route)"
   ],
   "id": "6c13f6a98a4f233d",
   "outputs": [],
   "execution_count": 3
  },
  {
   "metadata": {
    "ExecuteTime": {
     "end_time": "2024-10-29T02:30:36.104581Z",
     "start_time": "2024-10-29T02:30:36.101638Z"
    }
   },
   "cell_type": "code",
   "source": "json_route = \"C:\\\\workspace\\\\project_final\\\\data\\\\dataset_sample_1percent.json\"",
   "id": "c72b4824308172f7",
   "outputs": [],
   "execution_count": 4
  },
  {
   "metadata": {
    "ExecuteTime": {
     "end_time": "2024-10-29T02:30:36.609849Z",
     "start_time": "2024-10-29T02:30:36.116591Z"
    }
   },
   "cell_type": "code",
   "source": [
    "# Save DataFrame as JSON\n",
    "data.to_json(json_route, orient='records', force_ascii=False, indent=4)\n",
    "print(f\"Data saved to JSON at: {json_route}\")"
   ],
   "id": "17a51e72f0144dc6",
   "outputs": [
    {
     "name": "stdout",
     "output_type": "stream",
     "text": [
      "Data saved to JSON at: C:\\workspace\\project_final\\data\\dataset_sample_1percent.json\n"
     ]
    }
   ],
   "execution_count": 5
  },
  {
   "metadata": {
    "ExecuteTime": {
     "end_time": "2024-10-29T02:30:36.695057Z",
     "start_time": "2024-10-29T02:30:36.691541Z"
    }
   },
   "cell_type": "code",
   "source": [
    "def upload_json_to_s3(file_route, file_name):\n",
    "    try:\n",
    "        s3_client.upload_file(\n",
    "            Filename=file_route,  # 파일\n",
    "            Bucket=os.getenv(\"S3_BUCKET\"),  # S3 버킷 이름\n",
    "            Key=file_name,  # S3에 저장할 경로\n",
    "            ExtraArgs={'ContentType': 'application/json'}\n",
    "        )\n",
    "        url = f\"https://{os.getenv('S3_BUCKET')}.s3.amazonaws.com/{file_name}\"\n",
    "        print(f\"JSON file uploaded to S3: {url}\")\n",
    "    except Exception as e:\n",
    "        print(f\"Error uploading JSON to S3: {e}\")"
   ],
   "id": "d01a53959e53f403",
   "outputs": [],
   "execution_count": 6
  },
  {
   "metadata": {
    "ExecuteTime": {
     "end_time": "2024-10-29T02:31:16.915654Z",
     "start_time": "2024-10-29T02:30:36.707917Z"
    }
   },
   "cell_type": "code",
   "source": [
    "file_name = \"dataset_sample_1percent.json\"\n",
    "upload_json_to_s3(json_route, file_name)"
   ],
   "id": "bdfbce28d1f5aaca",
   "outputs": [
    {
     "name": "stdout",
     "output_type": "stream",
     "text": [
      "JSON file uploaded to S3: https://gs-product-bucket.s3.amazonaws.com/dataset_sample_1percent.json\n"
     ]
    }
   ],
   "execution_count": 7
  }
 ],
 "metadata": {
  "kernelspec": {
   "display_name": "Python 3",
   "language": "python",
   "name": "python3"
  },
  "language_info": {
   "codemirror_mode": {
    "name": "ipython",
    "version": 2
   },
   "file_extension": ".py",
   "mimetype": "text/x-python",
   "name": "python",
   "nbconvert_exporter": "python",
   "pygments_lexer": "ipython2",
   "version": "2.7.6"
  }
 },
 "nbformat": 4,
 "nbformat_minor": 5
}
