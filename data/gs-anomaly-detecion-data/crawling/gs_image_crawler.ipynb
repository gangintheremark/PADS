{
 "cells": [
  {
   "cell_type": "code",
   "id": "initial_id",
   "metadata": {
    "collapsed": true,
    "ExecuteTime": {
     "end_time": "2024-10-28T06:50:39.571952Z",
     "start_time": "2024-10-28T06:50:39.569335Z"
    }
   },
   "source": [
    "import pandas as pd\n",
    "from selenium import webdriver\n",
    "from selenium.webdriver.common.by import By\n",
    "import time\n",
    "import os\n",
    "import requests"
   ],
   "outputs": [],
   "execution_count": 9
  },
  {
   "metadata": {
    "ExecuteTime": {
     "end_time": "2024-10-28T06:50:39.963417Z",
     "start_time": "2024-10-28T06:50:39.575951Z"
    }
   },
   "cell_type": "code",
   "source": [
    "data_route = \"C:\\\\workspace\\\\project_final\\\\data\\\\dataset_sample_1percent.csv\"\n",
    "data = pd.read_csv(data_route)"
   ],
   "id": "108542356d445085",
   "outputs": [],
   "execution_count": 10
  },
  {
   "metadata": {
    "ExecuteTime": {
     "end_time": "2024-10-28T06:50:41.260108Z",
     "start_time": "2024-10-28T06:50:39.985336Z"
    }
   },
   "cell_type": "code",
   "source": [
    "# 이미지 저장 경로 설정\n",
    "save_dir = \"C:\\\\workspace\\\\project_final\\\\data\\\\images\"\n",
    "os.makedirs(save_dir, exist_ok=True)\n",
    "\n",
    "# Selenium WebDriver 설정 (크롬 드라이버 경로)\n",
    "path = \"C:\\\\workspace\\\\project_final\\\\chromedriver-win64\\\\chromedriver.exe\"\n",
    "driver = webdriver.Chrome()"
   ],
   "id": "f305435434c89325",
   "outputs": [],
   "execution_count": 12
  },
  {
   "metadata": {
    "ExecuteTime": {
     "end_time": "2024-10-28T06:50:41.272045Z",
     "start_time": "2024-10-28T06:50:41.268462Z"
    }
   },
   "cell_type": "code",
   "source": [
    "# 이미지 다운로드 함수\n",
    "def download_image(url, prd_id):\n",
    "    try:\n",
    "        response = requests.get(url, stream=True)\n",
    "        if response.status_code == 200:\n",
    "            # 이미지 저장\n",
    "            file_path = os.path.join(save_dir, f'{prd_id}.jpg')\n",
    "            with open(file_path, 'wb') as out_file:\n",
    "                out_file.write(response.content)\n",
    "            print(f\"Image saved: {file_path}\")\n",
    "        else:\n",
    "            print(f\"Failed to download image for prd_id: {prd_id} (status code: {response.status_code})\")\n",
    "    except Exception as e:\n",
    "        print(f\"Error downloading image for prd_id: {prd_id}, Error: {e}\")"
   ],
   "id": "f3b5318393b5553b",
   "outputs": [],
   "execution_count": 13
  },
  {
   "metadata": {
    "ExecuteTime": {
     "end_time": "2024-10-28T06:51:07.652575Z",
     "start_time": "2024-10-28T06:50:41.281445Z"
    }
   },
   "cell_type": "code",
   "source": [
    "# prd_id 열을 기준으로 크롤링 수행\n",
    "for index, prd_id in enumerate(data['prd_id']):\n",
    "    prd_id_str = str(prd_id)\n",
    "    # 이미지 URL 생성\n",
    "    image_url = f\"http://image.gsshop.com/image/{prd_id_str[0:2]}/{prd_id_str[2:4]}/{prd_id_str}_L1.jpg\"\n",
    "    \n",
    "    # Selenium을 사용하여 URL 접속\n",
    "    driver.get(image_url)\n",
    "    time.sleep(1)  # 페이지 로드 대기\n",
    "    \n",
    "    # 페이지 소스에서 이미지 태그 추출\n",
    "    try:\n",
    "        image = driver.find_element(By.TAG_NAME, 'img')\n",
    "        if image:\n",
    "            img_src = image.get_attribute('src')\n",
    "            download_image(img_src, prd_id)\n",
    "        else:\n",
    "            print(f\"No image found for prd_id: {prd_id}\")\n",
    "    except Exception as e:\n",
    "        print(f\"Error while scraping image for prd_id: {prd_id}, Error: {e}\")\n",
    "    \n",
    "    if (index + 1) % 50 == 0:\n",
    "        print(f\"Processed {index + 1} prd_ids\")\n",
    "\n",
    "# 데이터 프레임 생성 및 확인\n",
    "print(\"Image scraping completed\")\n",
    "\n",
    "# WebDriver 종료\n",
    "driver.quit()"
   ],
   "id": "96573d152b561cec",
   "outputs": [
    {
     "name": "stdout",
     "output_type": "stream",
     "text": [
      "Image saved: C:\\workspace\\project_final\\data\\images\\1045363955.jpg\n",
      "Image saved: C:\\workspace\\project_final\\data\\images\\1039712480.jpg\n",
      "Image saved: C:\\workspace\\project_final\\data\\images\\50237029.jpg\n",
      "Image saved: C:\\workspace\\project_final\\data\\images\\1038767251.jpg\n",
      "Image saved: C:\\workspace\\project_final\\data\\images\\1041353764.jpg\n",
      "Image saved: C:\\workspace\\project_final\\data\\images\\1030787032.jpg\n",
      "Image saved: C:\\workspace\\project_final\\data\\images\\1032314185.jpg\n",
      "Image saved: C:\\workspace\\project_final\\data\\images\\51050263.jpg\n",
      "Image saved: C:\\workspace\\project_final\\data\\images\\1014415089.jpg\n",
      "Image saved: C:\\workspace\\project_final\\data\\images\\1055468982.jpg\n",
      "Image saved: C:\\workspace\\project_final\\data\\images\\1051323443.jpg\n",
      "Image saved: C:\\workspace\\project_final\\data\\images\\1049641641.jpg\n",
      "Image saved: C:\\workspace\\project_final\\data\\images\\1053075762.jpg\n",
      "Image saved: C:\\workspace\\project_final\\data\\images\\1056649023.jpg\n",
      "Image saved: C:\\workspace\\project_final\\data\\images\\60678868.jpg\n",
      "Image saved: C:\\workspace\\project_final\\data\\images\\61888045.jpg\n",
      "Image saved: C:\\workspace\\project_final\\data\\images\\1057543370.jpg\n",
      "Image saved: C:\\workspace\\project_final\\data\\images\\37221348.jpg\n",
      "Image saved: C:\\workspace\\project_final\\data\\images\\90342311.jpg\n",
      "Image saved: C:\\workspace\\project_final\\data\\images\\1055715356.jpg\n",
      "Error while scraping image for prd_id: 1002597814, Error: Message: no such window: target window already closed\n",
      "from unknown error: web view not found\n",
      "  (Session info: chrome=130.0.6723.59)\n",
      "Stacktrace:\n",
      "\tGetHandleVerifier [0x00007FF6339B3AB5+28005]\n",
      "\t(No symbol) [0x00007FF6339183B0]\n",
      "\t(No symbol) [0x00007FF6337B580A]\n",
      "\t(No symbol) [0x00007FF63378FA85]\n",
      "\t(No symbol) [0x00007FF633832AD7]\n",
      "\t(No symbol) [0x00007FF63384B1B1]\n",
      "\t(No symbol) [0x00007FF63382B7E3]\n",
      "\t(No symbol) [0x00007FF6337F75C8]\n",
      "\t(No symbol) [0x00007FF6337F8731]\n",
      "\tGetHandleVerifier [0x00007FF633CA643D+3118829]\n",
      "\tGetHandleVerifier [0x00007FF633CF6C90+3448640]\n",
      "\tGetHandleVerifier [0x00007FF633CECF0D+3408317]\n",
      "\tGetHandleVerifier [0x00007FF633A7A40B+841403]\n",
      "\t(No symbol) [0x00007FF63392340F]\n",
      "\t(No symbol) [0x00007FF63391F484]\n",
      "\t(No symbol) [0x00007FF63391F61D]\n",
      "\t(No symbol) [0x00007FF63390EB79]\n",
      "\tBaseThreadInitThunk [0x00007FFEBEE37374+20]\n",
      "\tRtlUserThreadStart [0x00007FFEC03FCC91+33]\n",
      "\n"
     ]
    },
    {
     "ename": "NoSuchWindowException",
     "evalue": "Message: no such window: target window already closed\nfrom unknown error: web view not found\n  (Session info: chrome=130.0.6723.59)\nStacktrace:\n\tGetHandleVerifier [0x00007FF6339B3AB5+28005]\n\t(No symbol) [0x00007FF6339183B0]\n\t(No symbol) [0x00007FF6337B580A]\n\t(No symbol) [0x00007FF63378FA85]\n\t(No symbol) [0x00007FF633832AD7]\n\t(No symbol) [0x00007FF63384B1B1]\n\t(No symbol) [0x00007FF63382B7E3]\n\t(No symbol) [0x00007FF6337F75C8]\n\t(No symbol) [0x00007FF6337F8731]\n\tGetHandleVerifier [0x00007FF633CA643D+3118829]\n\tGetHandleVerifier [0x00007FF633CF6C90+3448640]\n\tGetHandleVerifier [0x00007FF633CECF0D+3408317]\n\tGetHandleVerifier [0x00007FF633A7A40B+841403]\n\t(No symbol) [0x00007FF63392340F]\n\t(No symbol) [0x00007FF63391F484]\n\t(No symbol) [0x00007FF63391F61D]\n\t(No symbol) [0x00007FF63390EB79]\n\tBaseThreadInitThunk [0x00007FFEBEE37374+20]\n\tRtlUserThreadStart [0x00007FFEC03FCC91+33]\n",
     "output_type": "error",
     "traceback": [
      "\u001B[1;31m---------------------------------------------------------------------------\u001B[0m",
      "\u001B[1;31mNoSuchWindowException\u001B[0m                     Traceback (most recent call last)",
      "Cell \u001B[1;32mIn[14], line 8\u001B[0m\n\u001B[0;32m      5\u001B[0m image_url \u001B[38;5;241m=\u001B[39m \u001B[38;5;124mf\u001B[39m\u001B[38;5;124m\"\u001B[39m\u001B[38;5;124mhttp://image.gsshop.com/image/\u001B[39m\u001B[38;5;132;01m{\u001B[39;00mprd_id_str[\u001B[38;5;241m0\u001B[39m:\u001B[38;5;241m2\u001B[39m]\u001B[38;5;132;01m}\u001B[39;00m\u001B[38;5;124m/\u001B[39m\u001B[38;5;132;01m{\u001B[39;00mprd_id_str[\u001B[38;5;241m2\u001B[39m:\u001B[38;5;241m4\u001B[39m]\u001B[38;5;132;01m}\u001B[39;00m\u001B[38;5;124m/\u001B[39m\u001B[38;5;132;01m{\u001B[39;00mprd_id_str\u001B[38;5;132;01m}\u001B[39;00m\u001B[38;5;124m_L1.jpg\u001B[39m\u001B[38;5;124m\"\u001B[39m\n\u001B[0;32m      7\u001B[0m \u001B[38;5;66;03m# Selenium을 사용하여 URL 접속\u001B[39;00m\n\u001B[1;32m----> 8\u001B[0m driver\u001B[38;5;241m.\u001B[39mget(image_url)\n\u001B[0;32m      9\u001B[0m time\u001B[38;5;241m.\u001B[39msleep(\u001B[38;5;241m1\u001B[39m)  \u001B[38;5;66;03m# 페이지 로드 대기\u001B[39;00m\n\u001B[0;32m     11\u001B[0m \u001B[38;5;66;03m# 페이지 소스에서 이미지 태그 추출\u001B[39;00m\n",
      "File \u001B[1;32mC:\\ProgramData\\anaconda3\\Lib\\site-packages\\selenium\\webdriver\\remote\\webdriver.py:363\u001B[0m, in \u001B[0;36mWebDriver.get\u001B[1;34m(self, url)\u001B[0m\n\u001B[0;32m    361\u001B[0m \u001B[38;5;28;01mdef\u001B[39;00m \u001B[38;5;21mget\u001B[39m(\u001B[38;5;28mself\u001B[39m, url: \u001B[38;5;28mstr\u001B[39m) \u001B[38;5;241m-\u001B[39m\u001B[38;5;241m>\u001B[39m \u001B[38;5;28;01mNone\u001B[39;00m:\n\u001B[0;32m    362\u001B[0m \u001B[38;5;250m    \u001B[39m\u001B[38;5;124;03m\"\"\"Loads a web page in the current browser session.\"\"\"\u001B[39;00m\n\u001B[1;32m--> 363\u001B[0m     \u001B[38;5;28mself\u001B[39m\u001B[38;5;241m.\u001B[39mexecute(Command\u001B[38;5;241m.\u001B[39mGET, {\u001B[38;5;124m\"\u001B[39m\u001B[38;5;124murl\u001B[39m\u001B[38;5;124m\"\u001B[39m: url})\n",
      "File \u001B[1;32mC:\\ProgramData\\anaconda3\\Lib\\site-packages\\selenium\\webdriver\\remote\\webdriver.py:354\u001B[0m, in \u001B[0;36mWebDriver.execute\u001B[1;34m(self, driver_command, params)\u001B[0m\n\u001B[0;32m    352\u001B[0m response \u001B[38;5;241m=\u001B[39m \u001B[38;5;28mself\u001B[39m\u001B[38;5;241m.\u001B[39mcommand_executor\u001B[38;5;241m.\u001B[39mexecute(driver_command, params)\n\u001B[0;32m    353\u001B[0m \u001B[38;5;28;01mif\u001B[39;00m response:\n\u001B[1;32m--> 354\u001B[0m     \u001B[38;5;28mself\u001B[39m\u001B[38;5;241m.\u001B[39merror_handler\u001B[38;5;241m.\u001B[39mcheck_response(response)\n\u001B[0;32m    355\u001B[0m     response[\u001B[38;5;124m\"\u001B[39m\u001B[38;5;124mvalue\u001B[39m\u001B[38;5;124m\"\u001B[39m] \u001B[38;5;241m=\u001B[39m \u001B[38;5;28mself\u001B[39m\u001B[38;5;241m.\u001B[39m_unwrap_value(response\u001B[38;5;241m.\u001B[39mget(\u001B[38;5;124m\"\u001B[39m\u001B[38;5;124mvalue\u001B[39m\u001B[38;5;124m\"\u001B[39m, \u001B[38;5;28;01mNone\u001B[39;00m))\n\u001B[0;32m    356\u001B[0m     \u001B[38;5;28;01mreturn\u001B[39;00m response\n",
      "File \u001B[1;32mC:\\ProgramData\\anaconda3\\Lib\\site-packages\\selenium\\webdriver\\remote\\errorhandler.py:229\u001B[0m, in \u001B[0;36mErrorHandler.check_response\u001B[1;34m(self, response)\u001B[0m\n\u001B[0;32m    227\u001B[0m         alert_text \u001B[38;5;241m=\u001B[39m value[\u001B[38;5;124m\"\u001B[39m\u001B[38;5;124malert\u001B[39m\u001B[38;5;124m\"\u001B[39m]\u001B[38;5;241m.\u001B[39mget(\u001B[38;5;124m\"\u001B[39m\u001B[38;5;124mtext\u001B[39m\u001B[38;5;124m\"\u001B[39m)\n\u001B[0;32m    228\u001B[0m     \u001B[38;5;28;01mraise\u001B[39;00m exception_class(message, screen, stacktrace, alert_text)  \u001B[38;5;66;03m# type: ignore[call-arg]  # mypy is not smart enough here\u001B[39;00m\n\u001B[1;32m--> 229\u001B[0m \u001B[38;5;28;01mraise\u001B[39;00m exception_class(message, screen, stacktrace)\n",
      "\u001B[1;31mNoSuchWindowException\u001B[0m: Message: no such window: target window already closed\nfrom unknown error: web view not found\n  (Session info: chrome=130.0.6723.59)\nStacktrace:\n\tGetHandleVerifier [0x00007FF6339B3AB5+28005]\n\t(No symbol) [0x00007FF6339183B0]\n\t(No symbol) [0x00007FF6337B580A]\n\t(No symbol) [0x00007FF63378FA85]\n\t(No symbol) [0x00007FF633832AD7]\n\t(No symbol) [0x00007FF63384B1B1]\n\t(No symbol) [0x00007FF63382B7E3]\n\t(No symbol) [0x00007FF6337F75C8]\n\t(No symbol) [0x00007FF6337F8731]\n\tGetHandleVerifier [0x00007FF633CA643D+3118829]\n\tGetHandleVerifier [0x00007FF633CF6C90+3448640]\n\tGetHandleVerifier [0x00007FF633CECF0D+3408317]\n\tGetHandleVerifier [0x00007FF633A7A40B+841403]\n\t(No symbol) [0x00007FF63392340F]\n\t(No symbol) [0x00007FF63391F484]\n\t(No symbol) [0x00007FF63391F61D]\n\t(No symbol) [0x00007FF63390EB79]\n\tBaseThreadInitThunk [0x00007FFEBEE37374+20]\n\tRtlUserThreadStart [0x00007FFEC03FCC91+33]\n"
     ]
    }
   ],
   "execution_count": 14
  }
 ],
 "metadata": {
  "kernelspec": {
   "display_name": "Python 3",
   "language": "python",
   "name": "python3"
  },
  "language_info": {
   "codemirror_mode": {
    "name": "ipython",
    "version": 2
   },
   "file_extension": ".py",
   "mimetype": "text/x-python",
   "name": "python",
   "nbconvert_exporter": "python",
   "pygments_lexer": "ipython2",
   "version": "2.7.6"
  }
 },
 "nbformat": 4,
 "nbformat_minor": 5
}
