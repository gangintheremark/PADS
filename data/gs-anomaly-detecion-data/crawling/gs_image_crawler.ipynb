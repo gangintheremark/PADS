{
 "cells": [
  {
   "cell_type": "code",
   "id": "initial_id",
   "metadata": {
    "collapsed": true,
    "ExecuteTime": {
     "end_time": "2024-10-29T02:16:20.339368Z",
     "start_time": "2024-10-29T02:16:20.335616Z"
    }
   },
   "source": [
    "import pandas as pd\n",
    "from selenium import webdriver\n",
    "from selenium.webdriver.common.by import By\n",
    "import time\n",
    "import os\n",
    "import requests\n",
    "\n",
    "from boto3 import client\n",
    "import dotenv\n",
    "from io import BytesIO"
   ],
   "outputs": [],
   "execution_count": 15
  },
  {
   "metadata": {
    "ExecuteTime": {
     "end_time": "2024-10-29T02:16:20.352003Z",
     "start_time": "2024-10-29T02:16:20.344373Z"
    }
   },
   "cell_type": "code",
   "source": [
    "dotenv.load_dotenv('../gs-anomaly.env')\n",
    "\n",
    "s3_client = client(\n",
    "    \"s3\",\n",
    "    aws_access_key_id=os.getenv(\"CREDENTIALS_ACCESS_KEY\"),\n",
    "    aws_secret_access_key=os.getenv(\"CREDENTIALS_SECRET_KEY\"),\n",
    "    region_name=os.getenv(\"S3_REGION\"),\n",
    ")"
   ],
   "id": "6b5e2372f7a8ae73",
   "outputs": [],
   "execution_count": 16
  },
  {
   "metadata": {
    "ExecuteTime": {
     "end_time": "2024-10-29T02:16:20.362772Z",
     "start_time": "2024-10-29T02:16:20.360634Z"
    }
   },
   "cell_type": "code",
   "source": [
    "# 이미지를 저장할 디렉토리 경로\n",
    "IMAGE_DIR = \"./images\""
   ],
   "id": "dee8fb7d3fa9e5f2",
   "outputs": [],
   "execution_count": 17
  },
  {
   "metadata": {
    "ExecuteTime": {
     "end_time": "2024-10-29T02:16:20.763758Z",
     "start_time": "2024-10-29T02:16:20.372056Z"
    }
   },
   "cell_type": "code",
   "source": [
    "data_route = \"C:\\\\workspace\\\\project_final\\\\data\\\\dataset_sample_1percent.csv\"\n",
    "data = pd.read_csv(data_route)"
   ],
   "id": "108542356d445085",
   "outputs": [],
   "execution_count": 18
  },
  {
   "metadata": {
    "ExecuteTime": {
     "end_time": "2024-10-29T02:16:22.060221Z",
     "start_time": "2024-10-29T02:16:20.770608Z"
    }
   },
   "cell_type": "code",
   "source": [
    "# Selenium WebDriver 설정 (크롬 드라이버 경로)\n",
    "path = \"C:\\\\workspace\\\\project_final\\\\chromedriver-win64\\\\chromedriver.exe\"\n",
    "driver = webdriver.Chrome()"
   ],
   "id": "f305435434c89325",
   "outputs": [],
   "execution_count": 19
  },
  {
   "metadata": {
    "ExecuteTime": {
     "end_time": "2024-10-29T02:16:22.072280Z",
     "start_time": "2024-10-29T02:16:22.068414Z"
    }
   },
   "cell_type": "code",
   "source": [
    "def download_and_upload_image_to_s3(url, prd_id):\n",
    "    try:\n",
    "        response = requests.get(url, stream=True)\n",
    "        if response.status_code == 200:\n",
    "            # S3 업로드\n",
    "            file_name = f\"{prd_id}.jpg\"\n",
    "            print(f\"Uploading image for prd_id: {prd_id}\")\n",
    "            \n",
    "            s3_client.upload_fileobj(\n",
    "                Fileobj=BytesIO(response.content),  # 이미지 로드\n",
    "                Bucket=os.getenv(\"S3_BUCKET\"),  # S3 버킷 이름\n",
    "                Key=f\"images/{file_name}\",  # S3에 저장할 경로\n",
    "                ExtraArgs={'ContentType': 'image/jpeg'}  # 이미지 MIME 타입 설정\n",
    "            )\n",
    "            \n",
    "            url = f\"https://{os.getenv('S3_BUCKET')}.s3.amazonaws.com/images/{file_name}\"\n",
    "            # print(f\"Image uploaded to S3: {url}\")\n",
    "        else:\n",
    "            print(f\"Failed to download image for prd_id: {prd_id} (status code: {response.status_code})\")\n",
    "    except Exception as e:\n",
    "        print(f\"Error to upload image for prd_id: {prd_id}, Error: {e}\")"
   ],
   "id": "f3b5318393b5553b",
   "outputs": [],
   "execution_count": 20
  },
  {
   "metadata": {
    "ExecuteTime": {
     "end_time": "2024-10-29T02:16:52.830648Z",
     "start_time": "2024-10-29T02:16:22.088220Z"
    }
   },
   "cell_type": "code",
   "source": [
    "# prd_id 열을 기준으로 크롤링 수행\n",
    "success = 0\n",
    "for index, prd_id in enumerate(data['prd_id']):\n",
    "    prd_id_str = str(prd_id)\n",
    "    # 이미지 URL 생성\n",
    "    image_url = f\"http://image.gsshop.com/image/{prd_id_str[0:2]}/{prd_id_str[2:4]}/{prd_id_str}_L1.jpg\"\n",
    "    \n",
    "    # Selenium을 사용하여 URL 접속\n",
    "    driver.get(image_url)\n",
    "    time.sleep(1)  # 페이지 로드 대기\n",
    "    \n",
    "    # 페이지 소스에서 이미지 태그 추출\n",
    "    try:\n",
    "        image = driver.find_element(By.TAG_NAME, 'img')\n",
    "        if image:\n",
    "            img_src = image.get_attribute('src')\n",
    "            download_and_upload_image_to_s3(img_src, prd_id)\n",
    "            success+=1\n",
    "        else:\n",
    "            print(f\"No image found for prd_id: {prd_id}\")\n",
    "    except Exception as e:\n",
    "        print(f\"Error while scraping image for prd_id: {prd_id}, Error: {e}\")\n",
    "    \n",
    "    if (index + 1) % 1000 == 0:\n",
    "        print(f\"Processed {index + 1} prd_ids\")\n",
    "        print(f\"Successful: {success}\")\n",
    "\n",
    "# 데이터 프레임 생성 및 확인\n",
    "print(\"Image scraping completed\")\n",
    "\n",
    "# WebDriver 종료\n",
    "driver.quit()"
   ],
   "id": "96573d152b561cec",
   "outputs": [
    {
     "name": "stdout",
     "output_type": "stream",
     "text": [
      "Uploading image for prd_id: 1045363955\n",
      "Image uploaded to S3: https://gs-product-bucket.s3.amazonaws.com/images/1045363955.jpg\n",
      "Uploading image for prd_id: 1039712480\n",
      "Image uploaded to S3: https://gs-product-bucket.s3.amazonaws.com/images/1039712480.jpg\n",
      "Uploading image for prd_id: 50237029\n",
      "Image uploaded to S3: https://gs-product-bucket.s3.amazonaws.com/images/50237029.jpg\n",
      "Uploading image for prd_id: 1038767251\n",
      "Image uploaded to S3: https://gs-product-bucket.s3.amazonaws.com/images/1038767251.jpg\n",
      "Uploading image for prd_id: 1041353764\n",
      "Image uploaded to S3: https://gs-product-bucket.s3.amazonaws.com/images/1041353764.jpg\n",
      "Uploading image for prd_id: 1030787032\n",
      "Image uploaded to S3: https://gs-product-bucket.s3.amazonaws.com/images/1030787032.jpg\n",
      "Uploading image for prd_id: 1032314185\n",
      "Image uploaded to S3: https://gs-product-bucket.s3.amazonaws.com/images/1032314185.jpg\n",
      "Uploading image for prd_id: 51050263\n",
      "Image uploaded to S3: https://gs-product-bucket.s3.amazonaws.com/images/51050263.jpg\n",
      "Uploading image for prd_id: 1014415089\n",
      "Image uploaded to S3: https://gs-product-bucket.s3.amazonaws.com/images/1014415089.jpg\n",
      "Uploading image for prd_id: 1055468982\n",
      "Image uploaded to S3: https://gs-product-bucket.s3.amazonaws.com/images/1055468982.jpg\n",
      "Uploading image for prd_id: 1051323443\n",
      "Image uploaded to S3: https://gs-product-bucket.s3.amazonaws.com/images/1051323443.jpg\n",
      "Uploading image for prd_id: 1049641641\n",
      "Image uploaded to S3: https://gs-product-bucket.s3.amazonaws.com/images/1049641641.jpg\n",
      "Uploading image for prd_id: 1053075762\n",
      "Image uploaded to S3: https://gs-product-bucket.s3.amazonaws.com/images/1053075762.jpg\n",
      "Uploading image for prd_id: 1056649023\n",
      "Image uploaded to S3: https://gs-product-bucket.s3.amazonaws.com/images/1056649023.jpg\n",
      "Uploading image for prd_id: 60678868\n",
      "Image uploaded to S3: https://gs-product-bucket.s3.amazonaws.com/images/60678868.jpg\n",
      "Uploading image for prd_id: 61888045\n",
      "Image uploaded to S3: https://gs-product-bucket.s3.amazonaws.com/images/61888045.jpg\n",
      "Uploading image for prd_id: 1057543370\n",
      "Image uploaded to S3: https://gs-product-bucket.s3.amazonaws.com/images/1057543370.jpg\n",
      "Uploading image for prd_id: 37221348\n",
      "Image uploaded to S3: https://gs-product-bucket.s3.amazonaws.com/images/37221348.jpg\n",
      "Uploading image for prd_id: 90342311\n",
      "Image uploaded to S3: https://gs-product-bucket.s3.amazonaws.com/images/90342311.jpg\n"
     ]
    },
    {
     "ename": "KeyboardInterrupt",
     "evalue": "",
     "output_type": "error",
     "traceback": [
      "\u001B[1;31m---------------------------------------------------------------------------\u001B[0m",
      "\u001B[1;31mKeyboardInterrupt\u001B[0m                         Traceback (most recent call last)",
      "Cell \u001B[1;32mIn[21], line 10\u001B[0m\n\u001B[0;32m      8\u001B[0m \u001B[38;5;66;03m# Selenium을 사용하여 URL 접속\u001B[39;00m\n\u001B[0;32m      9\u001B[0m driver\u001B[38;5;241m.\u001B[39mget(image_url)\n\u001B[1;32m---> 10\u001B[0m \u001B[43mtime\u001B[49m\u001B[38;5;241;43m.\u001B[39;49m\u001B[43msleep\u001B[49m\u001B[43m(\u001B[49m\u001B[38;5;241;43m1\u001B[39;49m\u001B[43m)\u001B[49m  \u001B[38;5;66;03m# 페이지 로드 대기\u001B[39;00m\n\u001B[0;32m     12\u001B[0m \u001B[38;5;66;03m# 페이지 소스에서 이미지 태그 추출\u001B[39;00m\n\u001B[0;32m     13\u001B[0m \u001B[38;5;28;01mtry\u001B[39;00m:\n",
      "\u001B[1;31mKeyboardInterrupt\u001B[0m: "
     ]
    }
   ],
   "execution_count": 21
  }
 ],
 "metadata": {
  "kernelspec": {
   "display_name": "Python 3",
   "language": "python",
   "name": "python3"
  },
  "language_info": {
   "codemirror_mode": {
    "name": "ipython",
    "version": 2
   },
   "file_extension": ".py",
   "mimetype": "text/x-python",
   "name": "python",
   "nbconvert_exporter": "python",
   "pygments_lexer": "ipython2",
   "version": "2.7.6"
  }
 },
 "nbformat": 4,
 "nbformat_minor": 5
}
