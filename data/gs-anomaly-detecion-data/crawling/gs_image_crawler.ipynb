{
 "cells": [
  {
   "cell_type": "code",
   "id": "initial_id",
   "metadata": {
    "collapsed": true,
    "ExecuteTime": {
     "end_time": "2024-10-29T04:51:36.473748Z",
     "start_time": "2024-10-29T04:51:35.737204Z"
    }
   },
   "source": [
    "import pandas as pd\n",
    "from selenium import webdriver\n",
    "from bs4 import BeautifulSoup\n",
    "import os\n",
    "import requests\n",
    "\n",
    "from boto3 import client\n",
    "import dotenv\n",
    "from io import BytesIO\n",
    "\n",
    "from concurrent.futures import ThreadPoolExecutor, as_completed"
   ],
   "outputs": [],
   "execution_count": 1
  },
  {
   "metadata": {
    "ExecuteTime": {
     "end_time": "2024-10-29T04:51:36.644644Z",
     "start_time": "2024-10-29T04:51:36.483745Z"
    }
   },
   "cell_type": "code",
   "source": [
    "dotenv.load_dotenv('../gs-anomaly.env')\n",
    "\n",
    "s3_client = client(\n",
    "    \"s3\",\n",
    "    aws_access_key_id=os.getenv(\"CREDENTIALS_ACCESS_KEY\"),\n",
    "    aws_secret_access_key=os.getenv(\"CREDENTIALS_SECRET_KEY\"),\n",
    "    region_name=os.getenv(\"S3_REGION\"),\n",
    ")"
   ],
   "id": "6b5e2372f7a8ae73",
   "outputs": [],
   "execution_count": 2
  },
  {
   "metadata": {
    "ExecuteTime": {
     "end_time": "2024-10-29T04:51:36.862414Z",
     "start_time": "2024-10-29T04:51:36.859413Z"
    }
   },
   "cell_type": "code",
   "source": [
    "# 이미지를 저장할 디렉토리 경로\n",
    "IMAGE_DIR = \"./images\""
   ],
   "id": "dee8fb7d3fa9e5f2",
   "outputs": [],
   "execution_count": 3
  },
  {
   "metadata": {
    "ExecuteTime": {
     "end_time": "2024-10-29T04:51:36.873846Z",
     "start_time": "2024-10-29T04:51:36.868844Z"
    }
   },
   "cell_type": "code",
   "source": [
    "def download_and_upload_image_to_s3(url, prd_id):\n",
    "    try:\n",
    "        response = requests.get(url, stream=True)\n",
    "        if response.status_code == 200:\n",
    "            file_name = f\"{prd_id}.jpg\"\n",
    "            s3_client.upload_fileobj(\n",
    "                BytesIO(response.content),\n",
    "                Bucket=os.getenv(\"S3_BUCKET\"),\n",
    "                Key=f\"images/{file_name}\",\n",
    "                ExtraArgs={'ContentType': 'image/jpeg'}\n",
    "            )\n",
    "        else:\n",
    "            print(f\"Failed to download image for prd_id: {prd_id} (status code: {response.status_code})\")\n",
    "    except Exception as e:\n",
    "        print(f\"Error to upload image for prd_id: {prd_id}, Error: {e}\")\n",
    "        \n",
    "\n",
    "def process_images(data):\n",
    "    count = 0\n",
    "    total_count = len(data)\n",
    "    futures = []\n",
    "    with ThreadPoolExecutor(max_workers=20) as executor:  # 20개의 스레드 사용\n",
    "\n",
    "        for index, prd_id in enumerate(data['prd_id']):\n",
    "            prd_id_str = str(prd_id)\n",
    "            image_url = f\"http://image.gsshop.com/image/{prd_id_str[0:2]}/{prd_id_str[2:4]}/{prd_id_str}_L1.jpg\"\n",
    "            futures.append(executor.submit(download_and_upload_image_to_s3, image_url, prd_id))\n",
    "            \n",
    "            count+=1\n",
    "            # 1000개마다 현황 출력\n",
    "            if count % 1000 == 0:\n",
    "                print(f\"Processed {count}/{total_count} prd_ids\")\n",
    "                \n",
    "    print(f\"Total successful uploads: {count}\")"
   ],
   "id": "f3b5318393b5553b",
   "outputs": [],
   "execution_count": 4
  },
  {
   "metadata": {
    "ExecuteTime": {
     "end_time": "2024-10-29T04:51:37.218742Z",
     "start_time": "2024-10-29T04:51:36.917105Z"
    }
   },
   "cell_type": "code",
   "source": [
    "data_route = \"C:\\\\workspace\\\\project_final\\\\data\\\\dataset_sample_1percent.csv\"\n",
    "data = pd.read_csv(data_route, encoding='utf-8')"
   ],
   "id": "79fc895c6e3da943",
   "outputs": [],
   "execution_count": 5
  },
  {
   "metadata": {
    "ExecuteTime": {
     "end_time": "2024-10-29T05:58:33.292719Z",
     "start_time": "2024-10-29T04:51:37.231054Z"
    }
   },
   "cell_type": "code",
   "source": [
    "process_images(data)\n",
    "print(\"Image scraping completed\")"
   ],
   "id": "96573d152b561cec",
   "outputs": [
    {
     "name": "stdout",
     "output_type": "stream",
     "text": [
      "Processed 1000/159179 prd_ids\n",
      "Processed 2000/159179 prd_ids\n",
      "Processed 3000/159179 prd_ids\n",
      "Processed 4000/159179 prd_ids\n",
      "Processed 5000/159179 prd_ids\n",
      "Processed 6000/159179 prd_ids\n",
      "Processed 7000/159179 prd_ids\n",
      "Processed 8000/159179 prd_ids\n",
      "Processed 9000/159179 prd_ids\n",
      "Processed 10000/159179 prd_ids\n",
      "Processed 11000/159179 prd_ids\n",
      "Processed 12000/159179 prd_ids\n",
      "Processed 13000/159179 prd_ids\n",
      "Processed 14000/159179 prd_ids\n",
      "Processed 15000/159179 prd_ids\n",
      "Processed 16000/159179 prd_ids\n",
      "Processed 17000/159179 prd_ids\n",
      "Processed 18000/159179 prd_ids\n",
      "Processed 19000/159179 prd_ids\n",
      "Processed 20000/159179 prd_ids\n",
      "Processed 21000/159179 prd_ids\n",
      "Processed 22000/159179 prd_ids\n",
      "Processed 23000/159179 prd_ids\n",
      "Processed 24000/159179 prd_ids\n",
      "Processed 25000/159179 prd_ids\n",
      "Processed 26000/159179 prd_ids\n",
      "Processed 27000/159179 prd_ids\n",
      "Processed 28000/159179 prd_ids\n",
      "Processed 29000/159179 prd_ids\n",
      "Processed 30000/159179 prd_ids\n",
      "Processed 31000/159179 prd_ids\n",
      "Processed 32000/159179 prd_ids\n",
      "Processed 33000/159179 prd_ids\n",
      "Processed 34000/159179 prd_ids\n",
      "Processed 35000/159179 prd_ids\n",
      "Processed 36000/159179 prd_ids\n",
      "Processed 37000/159179 prd_ids\n",
      "Processed 38000/159179 prd_ids\n",
      "Processed 39000/159179 prd_ids\n",
      "Processed 40000/159179 prd_ids\n",
      "Processed 41000/159179 prd_ids\n",
      "Processed 42000/159179 prd_ids\n",
      "Processed 43000/159179 prd_ids\n",
      "Processed 44000/159179 prd_ids\n",
      "Processed 45000/159179 prd_ids\n",
      "Processed 46000/159179 prd_ids\n",
      "Processed 47000/159179 prd_ids\n",
      "Processed 48000/159179 prd_ids\n",
      "Processed 49000/159179 prd_ids\n",
      "Processed 50000/159179 prd_ids\n",
      "Processed 51000/159179 prd_ids\n",
      "Processed 52000/159179 prd_ids\n",
      "Processed 53000/159179 prd_ids\n",
      "Processed 54000/159179 prd_ids\n",
      "Processed 55000/159179 prd_ids\n",
      "Processed 56000/159179 prd_ids\n",
      "Processed 57000/159179 prd_ids\n",
      "Processed 58000/159179 prd_ids\n",
      "Processed 59000/159179 prd_ids\n",
      "Processed 60000/159179 prd_ids\n",
      "Processed 61000/159179 prd_ids\n",
      "Processed 62000/159179 prd_ids\n",
      "Processed 63000/159179 prd_ids\n",
      "Processed 64000/159179 prd_ids\n",
      "Processed 65000/159179 prd_ids\n",
      "Processed 66000/159179 prd_ids\n",
      "Processed 67000/159179 prd_ids\n",
      "Processed 68000/159179 prd_ids\n",
      "Processed 69000/159179 prd_ids\n",
      "Processed 70000/159179 prd_ids\n",
      "Processed 71000/159179 prd_ids\n",
      "Processed 72000/159179 prd_ids\n",
      "Processed 73000/159179 prd_ids\n",
      "Processed 74000/159179 prd_ids\n",
      "Processed 75000/159179 prd_ids\n",
      "Processed 76000/159179 prd_ids\n",
      "Processed 77000/159179 prd_ids\n",
      "Processed 78000/159179 prd_ids\n",
      "Processed 79000/159179 prd_ids\n",
      "Processed 80000/159179 prd_ids\n",
      "Processed 81000/159179 prd_ids\n",
      "Processed 82000/159179 prd_ids\n",
      "Processed 83000/159179 prd_ids\n",
      "Processed 84000/159179 prd_ids\n",
      "Processed 85000/159179 prd_ids\n",
      "Processed 86000/159179 prd_ids\n",
      "Processed 87000/159179 prd_ids\n",
      "Processed 88000/159179 prd_ids\n",
      "Processed 89000/159179 prd_ids\n",
      "Processed 90000/159179 prd_ids\n",
      "Processed 91000/159179 prd_ids\n",
      "Processed 92000/159179 prd_ids\n",
      "Processed 93000/159179 prd_ids\n",
      "Processed 94000/159179 prd_ids\n",
      "Processed 95000/159179 prd_ids\n",
      "Processed 96000/159179 prd_ids\n",
      "Processed 97000/159179 prd_ids\n",
      "Processed 98000/159179 prd_ids\n",
      "Processed 99000/159179 prd_ids\n",
      "Processed 100000/159179 prd_ids\n",
      "Processed 101000/159179 prd_ids\n",
      "Processed 102000/159179 prd_ids\n",
      "Processed 103000/159179 prd_ids\n",
      "Processed 104000/159179 prd_ids\n",
      "Processed 105000/159179 prd_ids\n",
      "Processed 106000/159179 prd_ids\n",
      "Processed 107000/159179 prd_ids\n",
      "Processed 108000/159179 prd_ids\n",
      "Processed 109000/159179 prd_ids\n",
      "Processed 110000/159179 prd_ids\n",
      "Processed 111000/159179 prd_ids\n",
      "Processed 112000/159179 prd_ids\n",
      "Processed 113000/159179 prd_ids\n",
      "Processed 114000/159179 prd_ids\n",
      "Processed 115000/159179 prd_ids\n",
      "Processed 116000/159179 prd_ids\n",
      "Processed 117000/159179 prd_ids\n",
      "Processed 118000/159179 prd_ids\n",
      "Processed 119000/159179 prd_ids\n",
      "Processed 120000/159179 prd_ids\n",
      "Processed 121000/159179 prd_ids\n",
      "Processed 122000/159179 prd_ids\n",
      "Processed 123000/159179 prd_ids\n",
      "Processed 124000/159179 prd_ids\n",
      "Processed 125000/159179 prd_ids\n",
      "Processed 126000/159179 prd_ids\n",
      "Processed 127000/159179 prd_ids\n",
      "Processed 128000/159179 prd_ids\n",
      "Processed 129000/159179 prd_ids\n",
      "Processed 130000/159179 prd_ids\n",
      "Processed 131000/159179 prd_ids\n",
      "Processed 132000/159179 prd_ids\n",
      "Processed 133000/159179 prd_ids\n",
      "Processed 134000/159179 prd_ids\n",
      "Processed 135000/159179 prd_ids\n",
      "Processed 136000/159179 prd_ids\n",
      "Processed 137000/159179 prd_ids\n",
      "Processed 138000/159179 prd_ids\n",
      "Processed 139000/159179 prd_ids\n",
      "Processed 140000/159179 prd_ids\n",
      "Processed 141000/159179 prd_ids\n",
      "Processed 142000/159179 prd_ids\n",
      "Processed 143000/159179 prd_ids\n",
      "Processed 144000/159179 prd_ids\n",
      "Processed 145000/159179 prd_ids\n",
      "Processed 146000/159179 prd_ids\n",
      "Processed 147000/159179 prd_ids\n",
      "Processed 148000/159179 prd_ids\n",
      "Processed 149000/159179 prd_ids\n",
      "Processed 150000/159179 prd_ids\n",
      "Processed 151000/159179 prd_ids\n",
      "Processed 152000/159179 prd_ids\n",
      "Processed 153000/159179 prd_ids\n",
      "Processed 154000/159179 prd_ids\n",
      "Processed 155000/159179 prd_ids\n",
      "Processed 156000/159179 prd_ids\n",
      "Processed 157000/159179 prd_ids\n",
      "Processed 158000/159179 prd_ids\n",
      "Processed 159000/159179 prd_ids\n",
      "None\n",
      "Failed to download image for prd_id: 1047817575 (status code: 404)\n",
      "Failed to download image for prd_id: 1047802999 (status code: 404)\n",
      "Failed to download image for prd_id: 19132027 (status code: 404)\n"
     ]
    },
    {
     "ename": "TypeError",
     "evalue": "argument of type 'NoneType' is not iterable",
     "output_type": "error",
     "traceback": [
      "\u001B[1;31m---------------------------------------------------------------------------\u001B[0m",
      "\u001B[1;31mTypeError\u001B[0m                                 Traceback (most recent call last)",
      "Cell \u001B[1;32mIn[6], line 1\u001B[0m\n\u001B[1;32m----> 1\u001B[0m \u001B[43mprocess_images\u001B[49m\u001B[43m(\u001B[49m\u001B[43mdata\u001B[49m\u001B[43m)\u001B[49m\n\u001B[0;32m      2\u001B[0m \u001B[38;5;28mprint\u001B[39m(\u001B[38;5;124m\"\u001B[39m\u001B[38;5;124mImage scraping completed\u001B[39m\u001B[38;5;124m\"\u001B[39m)\n",
      "Cell \u001B[1;32mIn[4], line 36\u001B[0m, in \u001B[0;36mprocess_images\u001B[1;34m(data)\u001B[0m\n\u001B[0;32m     34\u001B[0m         result \u001B[38;5;241m=\u001B[39m future\u001B[38;5;241m.\u001B[39mresult()\n\u001B[0;32m     35\u001B[0m         \u001B[38;5;28mprint\u001B[39m(result)\n\u001B[1;32m---> 36\u001B[0m         \u001B[38;5;28;01mif\u001B[39;00m \u001B[38;5;124;43m\"\u001B[39;49m\u001B[38;5;124;43mUploaded\u001B[39;49m\u001B[38;5;124;43m\"\u001B[39;49m\u001B[43m \u001B[49m\u001B[38;5;129;43;01min\u001B[39;49;00m\u001B[43m \u001B[49m\u001B[43mresult\u001B[49m:\n\u001B[0;32m     37\u001B[0m             success_count \u001B[38;5;241m+\u001B[39m\u001B[38;5;241m=\u001B[39m \u001B[38;5;241m1\u001B[39m\n\u001B[0;32m     39\u001B[0m \u001B[38;5;28mprint\u001B[39m(\u001B[38;5;124mf\u001B[39m\u001B[38;5;124m\"\u001B[39m\u001B[38;5;124mTotal successful uploads: \u001B[39m\u001B[38;5;132;01m{\u001B[39;00msuccess_count\u001B[38;5;132;01m}\u001B[39;00m\u001B[38;5;124m\"\u001B[39m)\n",
      "\u001B[1;31mTypeError\u001B[0m: argument of type 'NoneType' is not iterable"
     ]
    }
   ],
   "execution_count": 6
  }
 ],
 "metadata": {
  "kernelspec": {
   "display_name": "Python 3",
   "language": "python",
   "name": "python3"
  },
  "language_info": {
   "codemirror_mode": {
    "name": "ipython",
    "version": 2
   },
   "file_extension": ".py",
   "mimetype": "text/x-python",
   "name": "python",
   "nbconvert_exporter": "python",
   "pygments_lexer": "ipython2",
   "version": "2.7.6"
  }
 },
 "nbformat": 4,
 "nbformat_minor": 5
}
